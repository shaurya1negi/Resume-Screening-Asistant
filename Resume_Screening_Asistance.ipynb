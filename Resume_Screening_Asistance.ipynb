{
 "cells": [
  {
   "cell_type": "code",
   "execution_count": null,
   "id": "94d2515b",
   "metadata": {},
   "outputs": [],
   "source": [
    "import Textextraction as te #Module contains function to perform extraction of keypoint from PDF resumes for proper classificaition.\n",
    "import pandas as pd"
   ]
  },
  {
   "cell_type": "code",
   "execution_count": 3,
   "id": "26e056b3",
   "metadata": {},
   "outputs": [],
   "source": [
    "#Location of resume pdf and csv file\n",
    "pdf_folder = '/home/shaurya/Desktop/myenvPython3.12/IBMProjects/Resume_Screening_Asistant/ResumeData/Resume_PDF'\n",
    "csv_path = '/home/shaurya/Desktop/myenvPython3.12/IBMProjects/Resume_Screening_Asistant/ResumeData/all_resumes_extracted.csv'"
   ]
  },
  {
   "cell_type": "markdown",
   "id": "b4ca94fe",
   "metadata": {},
   "source": [
    "#Extracting the pdf content and stacking the data to csv file"
   ]
  },
  {
   "cell_type": "code",
   "execution_count": null,
   "id": "f188911e",
   "metadata": {},
   "outputs": [
    {
     "name": "stdout",
     "output_type": "stream",
     "text": [
      "All resumes processed and saved to /home/shaurya/Desktop/myenvPython3.12/IBMProjects/Resume_Screening_Asistant/ResumeData/all_resumes_extracted.csv\n"
     ]
    }
   ],
   "source": [
    "#The content is categorized into sections i.e - Skills, Experience, Education, Professional experience,Name ,email,Phone.\n",
    "te.pdf_content_to_csv(pdf_folder, csv_path) #This function extracts text from the pdf resumes and saves it into a csv file to the specified path of cvs."
   ]
  },
  {
   "cell_type": "code",
   "execution_count": null,
   "id": "6b8f71f6",
   "metadata": {},
   "outputs": [],
   "source": [
    "#Storing the data from all_resumes_extracted.csv to pandas dictionary format which is still a dataframe type.=;\n",
    "csv_path = '/home/shaurya/Desktop/myenvPython3.12/IBMProjects/Resume_Screening_Asistant/ResumeData/all_resumes_extracted.csv'\n",
    "extracted_resume_data=pd.read_csv(csv_path)\n",
    "extracted_resume_data.to_dict()"
   ]
  },
  {
   "cell_type": "code",
   "execution_count": 6,
   "id": "6555ead1",
   "metadata": {},
   "outputs": [
    {
     "name": "stdout",
     "output_type": "stream",
     "text": [
      "dimension of resume data: (25, 8)\n",
      "where 8 are the coloumns i.e Name,Email,Phone,Summary,Skills,Professional Experience,Education,Filename and 15 resumes\n"
     ]
    }
   ],
   "source": [
    "print(f'dimension of resume data: {extracted_resume_data.shape}')\n",
    "print(\"where 8 are the coloumns i.e Name,Email,Phone,Summary,Skills,Professional Experience,Education,Filename and 15 resumes\")"
   ]
  },
  {
   "cell_type": "code",
   "execution_count": 7,
   "id": "4276f363",
   "metadata": {},
   "outputs": [
    {
     "name": "stdout",
     "output_type": "stream",
     "text": [
      "<class 'pandas.core.frame.DataFrame'>\n"
     ]
    }
   ],
   "source": [
    "print(type(extracted_resume_data))"
   ]
  },
  {
   "cell_type": "code",
   "execution_count": 8,
   "id": "62daa411",
   "metadata": {},
   "outputs": [
    {
     "name": "stderr",
     "output_type": "stream",
     "text": [
      "/home/shaurya/Desktop/myenvPython3.12/lib64/python3.12/site-packages/ibm_watson_machine_learning/foundation_models/utils/utils.py:273: LifecycleWarning: Model 'google/flan-t5-xxl' is in deprecated state from 2025-05-28 until 2025-07-30. IDs of alternative models: None. Further details: https://dataplatform.cloud.ibm.com/docs/content/wsj/analyze-data/fm-model-lifecycle.html?context=wx&audience=wdp\n",
      "  warnings.warn(default_warning_template.format(\n"
     ]
    }
   ],
   "source": [
    "import LLMModel as classifyingModel # import the resume classifying model"
   ]
  },
  {
   "cell_type": "markdown",
   "id": "eed81c15",
   "metadata": {},
   "source": [
    "#Classification"
   ]
  },
  {
   "cell_type": "code",
   "execution_count": null,
   "id": "8fe6c99e",
   "metadata": {},
   "outputs": [],
   "source": [
    "#Iterating through the extracted_resume_data and classifying the resumes into different categories(Data_Scirnce,HR,Software development).\n",
    "Data_Science = {\"resume\":[],\"name: \":[],\"phone: \":[],\"email:\":[]}\n",
    "HR= {\"resume\":[],\"name: \":[],\"phone: \":[],\"email:\":[]}\n",
    "Software_development= {\"resume\":[],\"name: \":[],\"phone: \":[],\"email:\":[]}\n",
    "#iterating extracted_resume_data and classifying their respective fields\n",
    "for idx ,row in extracted_resume_data.iterrows():\n",
    "    category_classified = classifyingModel.categorize_resume_content(classifyingModel.model , row) #classifyingModel.model (model used for classification) and row (row of the dataframe which contains the resume data) are passed to the function categorize_resume_content.\n",
    "    if category_classified[\"job_category\"] == \"Data Science\":\n",
    "        Data_Science[\"resume\"].append(row[\"Filename\"])\n",
    "        Data_Science[\"name: \"].append(row[\"Name\"])\n",
    "        Data_Science[\"phone: \"].append(row[\"Phone\"])\n",
    "        Data_Science[\"email:\"].append(row[\"Email\"])\n",
    "    elif category_classified[\"job_category\"] == \"HR\":\n",
    "        HR[\"resume\"].append(row[\"Filename\"])\n",
    "        HR[\"name: \"].append(row[\"Name\"])\n",
    "        HR[\"phone: \"].append(row[\"Phone\"])\n",
    "        HR[\"email:\"].append(row[\"Email\"])\n",
    "    elif category_classified[\"job_category\"] == \"Software Development\":\n",
    "        Software_development[\"resume\"].append(row[\"Filename\"])\n",
    "        Software_development[\"name: \"].append(row[\"Name\"])\n",
    "        Software_development[\"phone: \"].append(row[\"Phone\"])\n",
    "        Software_development[\"email:\"].append(row[\"Email\"])\n",
    "#Converting the categories to dataframes for better visualization and manupilation.\n",
    "Data_Science_df = pd.DataFrame(Data_Science)\n",
    "HR_df = pd.DataFrame(HR)\n",
    "Software_development_df = pd.DataFrame(Software_development)"
   ]
  },
  {
   "cell_type": "markdown",
   "id": "fedd5e29",
   "metadata": {},
   "source": [
    "#Classification Report "
   ]
  },
  {
   "cell_type": "code",
   "execution_count": null,
   "id": "2568774c",
   "metadata": {},
   "outputs": [
    {
     "data": {
      "text/html": [
       "<div>\n",
       "<style scoped>\n",
       "    .dataframe tbody tr th:only-of-type {\n",
       "        vertical-align: middle;\n",
       "    }\n",
       "\n",
       "    .dataframe tbody tr th {\n",
       "        vertical-align: top;\n",
       "    }\n",
       "\n",
       "    .dataframe thead th {\n",
       "        text-align: right;\n",
       "    }\n",
       "</style>\n",
       "<table border=\"1\" class=\"dataframe\">\n",
       "  <thead>\n",
       "    <tr style=\"text-align: right;\">\n",
       "      <th></th>\n",
       "      <th>resume</th>\n",
       "      <th>name:</th>\n",
       "      <th>phone:</th>\n",
       "      <th>email:</th>\n",
       "    </tr>\n",
       "  </thead>\n",
       "  <tbody>\n",
       "    <tr>\n",
       "      <th>0</th>\n",
       "      <td>synthetic_resume_20.pdf</td>\n",
       "      <td>Thomas Müller</td>\n",
       "      <td>Phone: (555) 567-8901</td>\n",
       "      <td>Email: thomas.mueller@email.com</td>\n",
       "    </tr>\n",
       "    <tr>\n",
       "      <th>1</th>\n",
       "      <td>synthetic_generic_16.pdf</td>\n",
       "      <td>Jordan Lee</td>\n",
       "      <td>Phone: (555) 123-7890</td>\n",
       "      <td>Email: jordan.lee@email.com</td>\n",
       "    </tr>\n",
       "    <tr>\n",
       "      <th>2</th>\n",
       "      <td>resume_generic_02.pdf</td>\n",
       "      <td>Alicia Ramirez</td>\n",
       "      <td>Phone: (555) 234-5678</td>\n",
       "      <td>Email: alicia.ramirez@email.com</td>\n",
       "    </tr>\n",
       "    <tr>\n",
       "      <th>3</th>\n",
       "      <td>resume_generic_03.pdf</td>\n",
       "      <td>Kevin O'Malley</td>\n",
       "      <td>Phone: (555) 345-6789</td>\n",
       "      <td>Email: kevin.omalley@email.com</td>\n",
       "    </tr>\n",
       "    <tr>\n",
       "      <th>4</th>\n",
       "      <td>synthetic_resume_17.pdf</td>\n",
       "      <td>Alicia Ramirez</td>\n",
       "      <td>Phone: (555) 234-5678</td>\n",
       "      <td>Email: alicia.ramirez@email.com</td>\n",
       "    </tr>\n",
       "    <tr>\n",
       "      <th>5</th>\n",
       "      <td>synthetic_resume_19.pdf</td>\n",
       "      <td>Sonia Patel</td>\n",
       "      <td>Phone: (555) 456-7890</td>\n",
       "      <td>Email: sonia.patel@email.com</td>\n",
       "    </tr>\n",
       "    <tr>\n",
       "      <th>6</th>\n",
       "      <td>synthetic_resume_18.pdf</td>\n",
       "      <td>Kevin O'Malley</td>\n",
       "      <td>Phone: (555) 345-6789</td>\n",
       "      <td>Email: kevin.omalley@email.com</td>\n",
       "    </tr>\n",
       "    <tr>\n",
       "      <th>7</th>\n",
       "      <td>resume_generic_05.pdf</td>\n",
       "      <td>Thomas Müller</td>\n",
       "      <td>Phone: (555) 567-8901</td>\n",
       "      <td>Email: thomas.mueller@email.com</td>\n",
       "    </tr>\n",
       "    <tr>\n",
       "      <th>8</th>\n",
       "      <td>resume_generic_04.pdf</td>\n",
       "      <td>Sonia Patel</td>\n",
       "      <td>Phone: (555) 456-7890</td>\n",
       "      <td>Email: sonia.patel@email.com</td>\n",
       "    </tr>\n",
       "    <tr>\n",
       "      <th>9</th>\n",
       "      <td>resume_generic_01.pdf</td>\n",
       "      <td>Jordan Lee</td>\n",
       "      <td>Phone: (555) 123-7890</td>\n",
       "      <td>Email: jordan.lee@email.com</td>\n",
       "    </tr>\n",
       "  </tbody>\n",
       "</table>\n",
       "</div>"
      ],
      "text/plain": [
       "                     resume          name:                 phone:   \\\n",
       "0   synthetic_resume_20.pdf   Thomas Müller  Phone: (555) 567-8901   \n",
       "1  synthetic_generic_16.pdf      Jordan Lee  Phone: (555) 123-7890   \n",
       "2     resume_generic_02.pdf  Alicia Ramirez  Phone: (555) 234-5678   \n",
       "3     resume_generic_03.pdf  Kevin O'Malley  Phone: (555) 345-6789   \n",
       "4   synthetic_resume_17.pdf  Alicia Ramirez  Phone: (555) 234-5678   \n",
       "5   synthetic_resume_19.pdf     Sonia Patel  Phone: (555) 456-7890   \n",
       "6   synthetic_resume_18.pdf  Kevin O'Malley  Phone: (555) 345-6789   \n",
       "7     resume_generic_05.pdf   Thomas Müller  Phone: (555) 567-8901   \n",
       "8     resume_generic_04.pdf     Sonia Patel  Phone: (555) 456-7890   \n",
       "9     resume_generic_01.pdf      Jordan Lee  Phone: (555) 123-7890   \n",
       "\n",
       "                            email:  \n",
       "0  Email: thomas.mueller@email.com  \n",
       "1      Email: jordan.lee@email.com  \n",
       "2  Email: alicia.ramirez@email.com  \n",
       "3   Email: kevin.omalley@email.com  \n",
       "4  Email: alicia.ramirez@email.com  \n",
       "5     Email: sonia.patel@email.com  \n",
       "6   Email: kevin.omalley@email.com  \n",
       "7  Email: thomas.mueller@email.com  \n",
       "8     Email: sonia.patel@email.com  \n",
       "9      Email: jordan.lee@email.com  "
      ]
     },
     "execution_count": 14,
     "metadata": {},
     "output_type": "execute_result"
    }
   ],
   "source": [
    "Data_Science_df"
   ]
  },
  {
   "cell_type": "code",
   "execution_count": 15,
   "id": "9ec84fcb",
   "metadata": {},
   "outputs": [
    {
     "data": {
      "text/html": [
       "<div>\n",
       "<style scoped>\n",
       "    .dataframe tbody tr th:only-of-type {\n",
       "        vertical-align: middle;\n",
       "    }\n",
       "\n",
       "    .dataframe tbody tr th {\n",
       "        vertical-align: top;\n",
       "    }\n",
       "\n",
       "    .dataframe thead th {\n",
       "        text-align: right;\n",
       "    }\n",
       "</style>\n",
       "<table border=\"1\" class=\"dataframe\">\n",
       "  <thead>\n",
       "    <tr style=\"text-align: right;\">\n",
       "      <th></th>\n",
       "      <th>resume</th>\n",
       "      <th>name:</th>\n",
       "      <th>phone:</th>\n",
       "      <th>email:</th>\n",
       "    </tr>\n",
       "  </thead>\n",
       "  <tbody>\n",
       "    <tr>\n",
       "      <th>0</th>\n",
       "      <td>synthetic_resume_20.pdf</td>\n",
       "      <td>Thomas Müller</td>\n",
       "      <td>Phone: (555) 567-8901</td>\n",
       "      <td>Email: thomas.mueller@email.com</td>\n",
       "    </tr>\n",
       "    <tr>\n",
       "      <th>1</th>\n",
       "      <td>synthetic_generic_16.pdf</td>\n",
       "      <td>Jordan Lee</td>\n",
       "      <td>Phone: (555) 123-7890</td>\n",
       "      <td>Email: jordan.lee@email.com</td>\n",
       "    </tr>\n",
       "    <tr>\n",
       "      <th>2</th>\n",
       "      <td>resume_generic_02.pdf</td>\n",
       "      <td>Alicia Ramirez</td>\n",
       "      <td>Phone: (555) 234-5678</td>\n",
       "      <td>Email: alicia.ramirez@email.com</td>\n",
       "    </tr>\n",
       "    <tr>\n",
       "      <th>3</th>\n",
       "      <td>resume_generic_03.pdf</td>\n",
       "      <td>Kevin O'Malley</td>\n",
       "      <td>Phone: (555) 345-6789</td>\n",
       "      <td>Email: kevin.omalley@email.com</td>\n",
       "    </tr>\n",
       "    <tr>\n",
       "      <th>4</th>\n",
       "      <td>synthetic_resume_17.pdf</td>\n",
       "      <td>Alicia Ramirez</td>\n",
       "      <td>Phone: (555) 234-5678</td>\n",
       "      <td>Email: alicia.ramirez@email.com</td>\n",
       "    </tr>\n",
       "    <tr>\n",
       "      <th>5</th>\n",
       "      <td>synthetic_resume_19.pdf</td>\n",
       "      <td>Sonia Patel</td>\n",
       "      <td>Phone: (555) 456-7890</td>\n",
       "      <td>Email: sonia.patel@email.com</td>\n",
       "    </tr>\n",
       "    <tr>\n",
       "      <th>6</th>\n",
       "      <td>synthetic_resume_18.pdf</td>\n",
       "      <td>Kevin O'Malley</td>\n",
       "      <td>Phone: (555) 345-6789</td>\n",
       "      <td>Email: kevin.omalley@email.com</td>\n",
       "    </tr>\n",
       "    <tr>\n",
       "      <th>7</th>\n",
       "      <td>resume_generic_05.pdf</td>\n",
       "      <td>Thomas Müller</td>\n",
       "      <td>Phone: (555) 567-8901</td>\n",
       "      <td>Email: thomas.mueller@email.com</td>\n",
       "    </tr>\n",
       "    <tr>\n",
       "      <th>8</th>\n",
       "      <td>resume_generic_04.pdf</td>\n",
       "      <td>Sonia Patel</td>\n",
       "      <td>Phone: (555) 456-7890</td>\n",
       "      <td>Email: sonia.patel@email.com</td>\n",
       "    </tr>\n",
       "    <tr>\n",
       "      <th>9</th>\n",
       "      <td>resume_generic_01.pdf</td>\n",
       "      <td>Jordan Lee</td>\n",
       "      <td>Phone: (555) 123-7890</td>\n",
       "      <td>Email: jordan.lee@email.com</td>\n",
       "    </tr>\n",
       "  </tbody>\n",
       "</table>\n",
       "</div>"
      ],
      "text/plain": [
       "                     resume          name:                 phone:   \\\n",
       "0   synthetic_resume_20.pdf   Thomas Müller  Phone: (555) 567-8901   \n",
       "1  synthetic_generic_16.pdf      Jordan Lee  Phone: (555) 123-7890   \n",
       "2     resume_generic_02.pdf  Alicia Ramirez  Phone: (555) 234-5678   \n",
       "3     resume_generic_03.pdf  Kevin O'Malley  Phone: (555) 345-6789   \n",
       "4   synthetic_resume_17.pdf  Alicia Ramirez  Phone: (555) 234-5678   \n",
       "5   synthetic_resume_19.pdf     Sonia Patel  Phone: (555) 456-7890   \n",
       "6   synthetic_resume_18.pdf  Kevin O'Malley  Phone: (555) 345-6789   \n",
       "7     resume_generic_05.pdf   Thomas Müller  Phone: (555) 567-8901   \n",
       "8     resume_generic_04.pdf     Sonia Patel  Phone: (555) 456-7890   \n",
       "9     resume_generic_01.pdf      Jordan Lee  Phone: (555) 123-7890   \n",
       "\n",
       "                            email:  \n",
       "0  Email: thomas.mueller@email.com  \n",
       "1      Email: jordan.lee@email.com  \n",
       "2  Email: alicia.ramirez@email.com  \n",
       "3   Email: kevin.omalley@email.com  \n",
       "4  Email: alicia.ramirez@email.com  \n",
       "5     Email: sonia.patel@email.com  \n",
       "6   Email: kevin.omalley@email.com  \n",
       "7  Email: thomas.mueller@email.com  \n",
       "8     Email: sonia.patel@email.com  \n",
       "9      Email: jordan.lee@email.com  "
      ]
     },
     "execution_count": 15,
     "metadata": {},
     "output_type": "execute_result"
    }
   ],
   "source": [
    "HR_df"
   ]
  },
  {
   "cell_type": "code",
   "execution_count": 16,
   "id": "cf278cd1",
   "metadata": {},
   "outputs": [
    {
     "data": {
      "text/html": [
       "<div>\n",
       "<style scoped>\n",
       "    .dataframe tbody tr th:only-of-type {\n",
       "        vertical-align: middle;\n",
       "    }\n",
       "\n",
       "    .dataframe tbody tr th {\n",
       "        vertical-align: top;\n",
       "    }\n",
       "\n",
       "    .dataframe thead th {\n",
       "        text-align: right;\n",
       "    }\n",
       "</style>\n",
       "<table border=\"1\" class=\"dataframe\">\n",
       "  <thead>\n",
       "    <tr style=\"text-align: right;\">\n",
       "      <th></th>\n",
       "      <th>resume</th>\n",
       "      <th>name:</th>\n",
       "      <th>phone:</th>\n",
       "      <th>email:</th>\n",
       "    </tr>\n",
       "  </thead>\n",
       "  <tbody>\n",
       "    <tr>\n",
       "      <th>0</th>\n",
       "      <td>synthetic_resume_13.pdf</td>\n",
       "      <td>Chloe Dubois</td>\n",
       "      <td>Phone: (555) 556-6778</td>\n",
       "      <td>Email: chloe.dubois@email.com</td>\n",
       "    </tr>\n",
       "    <tr>\n",
       "      <th>1</th>\n",
       "      <td>synthetic_resumes_11.pdf</td>\n",
       "      <td>Maria Garcia</td>\n",
       "      <td>Phone: (555) 334-4556</td>\n",
       "      <td>Email: maria.garcia@email.com</td>\n",
       "    </tr>\n",
       "    <tr>\n",
       "      <th>2</th>\n",
       "      <td>synthetic_resumes_09.pdf</td>\n",
       "      <td>Emily Nguyen</td>\n",
       "      <td>Phone: (555) 112-2334</td>\n",
       "      <td>Email: emily.nguyen@email.com</td>\n",
       "    </tr>\n",
       "    <tr>\n",
       "      <th>3</th>\n",
       "      <td>synthetic_resumes_08.pdf</td>\n",
       "      <td>John Smith</td>\n",
       "      <td>Phone: (555) 987-6543</td>\n",
       "      <td>Email: john.smith@email.com</td>\n",
       "    </tr>\n",
       "    <tr>\n",
       "      <th>4</th>\n",
       "      <td>synthetic_resumes_15.pdf</td>\n",
       "      <td>Aisha Khan</td>\n",
       "      <td>Phone: (555) 778-8990</td>\n",
       "      <td>Email: aisha.khan@email.com</td>\n",
       "    </tr>\n",
       "    <tr>\n",
       "      <th>5</th>\n",
       "      <td>synthetic_resumes_12.pdf</td>\n",
       "      <td>Daniel Ivanov</td>\n",
       "      <td>Phone: (555) 445-5667</td>\n",
       "      <td>Email: daniel.ivanov@email.com</td>\n",
       "    </tr>\n",
       "    <tr>\n",
       "      <th>6</th>\n",
       "      <td>synthetic_resumes_14.pdf</td>\n",
       "      <td>David Brown</td>\n",
       "      <td>Phone: (555) 667-7889</td>\n",
       "      <td>Email: david.brown@email.com</td>\n",
       "    </tr>\n",
       "    <tr>\n",
       "      <th>7</th>\n",
       "      <td>synthetic_resumes_10.pdf</td>\n",
       "      <td>Raj Patel</td>\n",
       "      <td>Phone: (555) 223-3445</td>\n",
       "      <td>Email: raj.patel@email.com</td>\n",
       "    </tr>\n",
       "  </tbody>\n",
       "</table>\n",
       "</div>"
      ],
      "text/plain": [
       "                     resume         name:                 phone:   \\\n",
       "0   synthetic_resume_13.pdf   Chloe Dubois  Phone: (555) 556-6778   \n",
       "1  synthetic_resumes_11.pdf   Maria Garcia  Phone: (555) 334-4556   \n",
       "2  synthetic_resumes_09.pdf   Emily Nguyen  Phone: (555) 112-2334   \n",
       "3  synthetic_resumes_08.pdf     John Smith  Phone: (555) 987-6543   \n",
       "4  synthetic_resumes_15.pdf     Aisha Khan  Phone: (555) 778-8990   \n",
       "5  synthetic_resumes_12.pdf  Daniel Ivanov  Phone: (555) 445-5667   \n",
       "6  synthetic_resumes_14.pdf    David Brown  Phone: (555) 667-7889   \n",
       "7  synthetic_resumes_10.pdf      Raj Patel  Phone: (555) 223-3445   \n",
       "\n",
       "                           email:  \n",
       "0   Email: chloe.dubois@email.com  \n",
       "1   Email: maria.garcia@email.com  \n",
       "2   Email: emily.nguyen@email.com  \n",
       "3     Email: john.smith@email.com  \n",
       "4     Email: aisha.khan@email.com  \n",
       "5  Email: daniel.ivanov@email.com  \n",
       "6    Email: david.brown@email.com  \n",
       "7      Email: raj.patel@email.com  "
      ]
     },
     "execution_count": 16,
     "metadata": {},
     "output_type": "execute_result"
    }
   ],
   "source": [
    "Software_development_df"
   ]
  }
 ],
 "metadata": {
  "kernelspec": {
   "display_name": "myenvPython3.12",
   "language": "python",
   "name": "python3"
  },
  "language_info": {
   "codemirror_mode": {
    "name": "ipython",
    "version": 3
   },
   "file_extension": ".py",
   "mimetype": "text/x-python",
   "name": "python",
   "nbconvert_exporter": "python",
   "pygments_lexer": "ipython3",
   "version": "3.12.11"
  }
 },
 "nbformat": 4,
 "nbformat_minor": 5
}
